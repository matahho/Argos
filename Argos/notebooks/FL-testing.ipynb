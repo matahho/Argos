{
 "cells": [
  {
   "metadata": {},
   "cell_type": "markdown",
   "source": [
    "## NOTE : For running this notebook you should download the dataset from :\n",
    "###    https://www.kaggle.com/datasets/nomihsa965/traffic-signs-dataset-mapillary-and-dfg\n",
    "##    and then put it in the main directory (Argos/) by \"data\" naming"
   ],
   "id": "977513d9512cf33f"
  },
  {
   "cell_type": "code",
   "id": "initial_id",
   "metadata": {
    "collapsed": true,
    "ExecuteTime": {
     "end_time": "2025-07-26T09:08:20.414883Z",
     "start_time": "2025-07-26T09:08:19.134129Z"
    }
   },
   "source": [
    "import os\n",
    "import json\n",
    "import logging\n",
    "from PIL import Image\n",
    "import torch\n",
    "from torchvision import transforms\n",
    "\n",
    "import torch\n",
    "import matplotlib.pyplot as plt\n",
    "import matplotlib.patches as patches\n",
    "import torchvision.transforms.functional as F\n",
    "import random\n",
    "import numpy as np\n",
    "import json"
   ],
   "outputs": [],
   "execution_count": 1
  },
  {
   "metadata": {
    "ExecuteTime": {
     "end_time": "2025-07-26T09:08:26.359979Z",
     "start_time": "2025-07-26T09:08:20.419410Z"
    }
   },
   "cell_type": "code",
   "source": [
    "from Argos.dataset import *\n",
    "from Argos.Client import new_client"
   ],
   "id": "56a76bc5eb1e1f8a",
   "outputs": [
    {
     "name": "stderr",
     "output_type": "stream",
     "text": [
      "100%|██████████| 100/100 [00:05<00:00, 17.77it/s]\n"
     ]
    }
   ],
   "execution_count": 2
  },
  {
   "metadata": {
    "ExecuteTime": {
     "end_time": "2025-07-26T09:08:28.464153Z",
     "start_time": "2025-07-26T09:08:28.462747Z"
    }
   },
   "cell_type": "code",
   "source": "",
   "id": "e766be852e90676b",
   "outputs": [],
   "execution_count": null
  },
  {
   "metadata": {
    "ExecuteTime": {
     "end_time": "2025-07-26T09:08:29.135564Z",
     "start_time": "2025-07-26T09:08:29.132463Z"
    }
   },
   "cell_type": "code",
   "source": "len(partitioned_dataset_indices)",
   "id": "207909a41dfd7a64",
   "outputs": [
    {
     "data": {
      "text/plain": [
       "5"
      ]
     },
     "execution_count": 3,
     "metadata": {},
     "output_type": "execute_result"
    }
   ],
   "execution_count": 3
  },
  {
   "metadata": {},
   "cell_type": "markdown",
   "source": "## Client App",
   "id": "c8a37a904e1c7a98"
  },
  {
   "metadata": {
    "ExecuteTime": {
     "end_time": "2025-07-26T09:08:30.386979Z",
     "start_time": "2025-07-26T09:08:30.385099Z"
    }
   },
   "cell_type": "code",
   "source": [
    "from flwr.client import ClientApp\n",
    "\n",
    "client = ClientApp(client_fn=new_client)"
   ],
   "id": "a5df96ab358c599b",
   "outputs": [],
   "execution_count": 4
  },
  {
   "metadata": {},
   "cell_type": "markdown",
   "source": "## Server App",
   "id": "b2eb47eba58be1e7"
  },
  {
   "metadata": {
    "ExecuteTime": {
     "end_time": "2025-07-26T09:08:31.632629Z",
     "start_time": "2025-07-26T09:08:31.630684Z"
    }
   },
   "cell_type": "code",
   "source": [
    "\n",
    "from flwr.server.strategy import FedAvg\n",
    "\n",
    "strategy = FedAvg(\n",
    "    fraction_fit=1.0,  # Sample 100% of available clients for training\n",
    "    fraction_evaluate=0.5,  # Sample 50% of available clients for evaluation\n",
    "    min_fit_clients=10,  # Never sample less than 10 clients for training\n",
    "    min_evaluate_clients=5,  # Never sample less than 5 clients for evaluation\n",
    "    min_available_clients=10,  # Wait until all 10 clients are available\n",
    ")"
   ],
   "id": "9809e3ced8b51eec",
   "outputs": [],
   "execution_count": 5
  },
  {
   "metadata": {
    "ExecuteTime": {
     "end_time": "2025-07-26T09:08:32.309283Z",
     "start_time": "2025-07-26T09:08:32.307283Z"
    }
   },
   "cell_type": "code",
   "source": [
    "from flwr.common import Context\n",
    "from flwr.server import ServerAppComponents, ServerConfig, ServerApp\n",
    "\n",
    "\n",
    "def server_fn(context: Context) -> ServerAppComponents:\n",
    "    \"\"\"Construct components that set the ServerApp behaviour.\n",
    "\n",
    "    You can use the settings in `context.run_config` to parameterize the\n",
    "    construction of all elements (e.g the strategy or the number of rounds)\n",
    "    wrapped in the returned ServerAppComponents object.\n",
    "    \"\"\"\n",
    "\n",
    "    # Configure the server for 5 rounds of training\n",
    "    config = ServerConfig(num_rounds=5)\n",
    "\n",
    "    return ServerAppComponents(strategy=strategy, config=config)\n",
    "\n",
    "\n",
    "# Create the ServerApp\n",
    "server = ServerApp(server_fn=server_fn)"
   ],
   "id": "4719047ee6aad726",
   "outputs": [],
   "execution_count": 6
  },
  {
   "metadata": {
    "ExecuteTime": {
     "end_time": "2025-07-26T09:08:32.853409Z",
     "start_time": "2025-07-26T09:08:32.851668Z"
    }
   },
   "cell_type": "code",
   "source": [
    "# Specify the resources each of your clients need\n",
    "# By default, each client will be allocated x CPU and 0x GPUs\n",
    "backend_config = {\"client_resources\": {\"num_cpus\": 2, \"num_gpus\": 0.0}}\n",
    "\n"
   ],
   "id": "2f9c54009c6f98de",
   "outputs": [],
   "execution_count": 7
  },
  {
   "metadata": {
    "ExecuteTime": {
     "end_time": "2025-07-26T09:08:33.464885Z",
     "start_time": "2025-07-26T09:08:33.463443Z"
    }
   },
   "cell_type": "code",
   "source": "",
   "id": "4cf866d3983de39e",
   "outputs": [],
   "execution_count": null
  },
  {
   "metadata": {
    "jupyter": {
     "is_executing": true
    },
    "ExecuteTime": {
     "start_time": "2025-07-26T09:08:34.400081Z"
    }
   },
   "cell_type": "code",
   "source": [
    "from flwr.simulation import run_simulation\n",
    "\n",
    "run_simulation(\n",
    "    server_app=server,\n",
    "    client_app=client,\n",
    "    num_supernodes=NUMBER_OF_CLIENTS,\n",
    "    backend_config=backend_config,\n",
    ")"
   ],
   "id": "354e83bed2521700",
   "outputs": [
    {
     "name": "stderr",
     "output_type": "stream",
     "text": [
      "\u001B[92mINFO \u001B[0m:      Starting Flower ServerApp, config: num_rounds=5, no round_timeout\n",
      "\u001B[92mINFO \u001B[0m:      \n",
      "\u001B[92mINFO \u001B[0m:      [INIT]\n",
      "\u001B[92mINFO \u001B[0m:      Requesting initial parameters from one random client\n",
      "  0%|          | 0/100 [00:00<?, ?it/s]\n",
      "  3%|▎         | 3/100 [00:00<00:05, 19.00it/s]\n",
      "  6%|▌         | 6/100 [00:00<00:05, 17.65it/s]\n",
      "  8%|▊         | 8/100 [00:00<00:05, 18.29it/s]\n",
      " 10%|█         | 10/100 [00:00<00:06, 14.10it/s]\n",
      " 13%|█▎        | 13/100 [00:00<00:05, 15.73it/s]\n",
      " 15%|█▌        | 15/100 [00:00<00:05, 14.72it/s]\n",
      " 18%|█▊        | 18/100 [00:01<00:04, 18.15it/s]\n",
      " 20%|██        | 20/100 [00:01<00:04, 16.28it/s]\n",
      " 23%|██▎       | 23/100 [00:01<00:04, 16.85it/s]\n",
      " 25%|██▌       | 25/100 [00:01<00:04, 17.08it/s]\n",
      " 27%|██▋       | 27/100 [00:01<00:04, 15.74it/s]\n",
      " 29%|██▉       | 29/100 [00:01<00:04, 15.67it/s]\n",
      " 31%|███       | 31/100 [00:01<00:04, 16.28it/s]\n",
      " 33%|███▎      | 33/100 [00:02<00:04, 16.14it/s]\n",
      " 37%|███▋      | 37/100 [00:02<00:03, 19.43it/s]\n",
      " 39%|███▉      | 39/100 [00:02<00:03, 16.94it/s]\n",
      " 41%|████      | 41/100 [00:02<00:03, 16.72it/s]\n",
      " 44%|████▍     | 44/100 [00:02<00:03, 17.14it/s]\n",
      " 47%|████▋     | 47/100 [00:02<00:02, 18.20it/s]\n",
      " 49%|████▉     | 49/100 [00:02<00:02, 17.42it/s]\n",
      " 51%|█████     | 51/100 [00:03<00:02, 16.37it/s]\n",
      " 54%|█████▍    | 54/100 [00:03<00:02, 17.95it/s]\n",
      " 57%|█████▋    | 57/100 [00:03<00:02, 20.19it/s]\n",
      " 60%|██████    | 60/100 [00:03<00:01, 20.99it/s]\n",
      " 63%|██████▎   | 63/100 [00:03<00:01, 20.09it/s]\n",
      " 66%|██████▌   | 66/100 [00:03<00:01, 18.97it/s]\n",
      " 69%|██████▉   | 69/100 [00:03<00:01, 19.48it/s]\n",
      " 71%|███████   | 71/100 [00:04<00:01, 18.70it/s]\n",
      " 74%|███████▍  | 74/100 [00:04<00:01, 19.64it/s]\n",
      " 76%|███████▌  | 76/100 [00:04<00:01, 18.00it/s]\n",
      " 80%|████████  | 80/100 [00:04<00:00, 23.01it/s]\n",
      " 83%|████████▎ | 83/100 [00:04<00:00, 22.01it/s]\n",
      " 86%|████████▌ | 86/100 [00:04<00:00, 19.12it/s]\n",
      " 89%|████████▉ | 89/100 [00:04<00:00, 17.32it/s]\n",
      " 91%|█████████ | 91/100 [00:05<00:00, 17.47it/s]\n",
      " 93%|█████████▎| 93/100 [00:05<00:00, 16.76it/s]\n",
      " 97%|█████████▋| 97/100 [00:05<00:00, 16.47it/s]\n",
      "100%|██████████| 100/100 [00:05<00:00, 17.65it/s]\n",
      "\u001B[92mINFO \u001B[0m:      Received initial parameters from one random client\n",
      "\u001B[92mINFO \u001B[0m:      Starting evaluation of initial global parameters\n",
      "\u001B[92mINFO \u001B[0m:      Evaluation returned no results (`None`)\n",
      "\u001B[92mINFO \u001B[0m:      \n",
      "\u001B[92mINFO \u001B[0m:      [ROUND 1]\n"
     ]
    }
   ],
   "execution_count": null
  },
  {
   "metadata": {},
   "cell_type": "code",
   "outputs": [],
   "execution_count": null,
   "source": "",
   "id": "119f654d8efc7069"
  },
  {
   "metadata": {},
   "cell_type": "code",
   "outputs": [],
   "execution_count": null,
   "source": "",
   "id": "3c3848e167dd6b31"
  }
 ],
 "metadata": {
  "kernelspec": {
   "display_name": "Python 3",
   "language": "python",
   "name": "python3"
  },
  "language_info": {
   "codemirror_mode": {
    "name": "ipython",
    "version": 2
   },
   "file_extension": ".py",
   "mimetype": "text/x-python",
   "name": "python",
   "nbconvert_exporter": "python",
   "pygments_lexer": "ipython2",
   "version": "2.7.6"
  }
 },
 "nbformat": 4,
 "nbformat_minor": 5
}
