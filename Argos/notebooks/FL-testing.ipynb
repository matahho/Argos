{
 "cells": [
  {
   "metadata": {},
   "cell_type": "markdown",
   "source": [
    "## NOTE : For running this notebook you should download the dataset from :\n",
    "###    https://www.kaggle.com/datasets/nomihsa965/traffic-signs-dataset-mapillary-and-dfg\n",
    "##    and then put it in the main directory (Argos/) by \"data\" naming"
   ],
   "id": "977513d9512cf33f"
  },
  {
   "cell_type": "code",
   "id": "initial_id",
   "metadata": {
    "collapsed": true,
    "ExecuteTime": {
     "end_time": "2025-07-26T11:30:27.962582Z",
     "start_time": "2025-07-26T11:30:27.960362Z"
    }
   },
   "source": "from Argos.settings import CLASSES_JSON_FILE , DATASET_PATH , NUMBER_OF_CLIENTS , CLIENT_BATCH_SIZE , CLIENT_LEARNING_RATE",
   "outputs": [],
   "execution_count": 5
  },
  {
   "metadata": {
    "ExecuteTime": {
     "end_time": "2025-07-26T11:30:29.540718Z",
     "start_time": "2025-07-26T11:30:29.537985Z"
    }
   },
   "cell_type": "code",
   "source": "from Argos.Dataset_utils import extract_label_mapping , MTSDDataset , partition_dataset, get_dataset_for_client",
   "id": "56a76bc5eb1e1f8a",
   "outputs": [],
   "execution_count": 6
  },
  {
   "metadata": {
    "ExecuteTime": {
     "end_time": "2025-07-26T11:30:30.414740Z",
     "start_time": "2025-07-26T11:30:29.884137Z"
    }
   },
   "cell_type": "code",
   "source": [
    "from torch.utils.data import Subset\n",
    "\n",
    "label_mapping = extract_label_mapping(CLASSES_JSON_FILE)\n",
    "number_of_classes = len(label_mapping)\n",
    "dataset = MTSDDataset(root_dir=DATASET_PATH)\n",
    "dataset = Subset(dataset, list(range(10)))\n",
    "partitioned_dataset_indices = partition_dataset(dataset=dataset, num_clients=NUMBER_OF_CLIENTS)\n"
   ],
   "id": "e766be852e90676b",
   "outputs": [],
   "execution_count": 7
  },
  {
   "metadata": {
    "ExecuteTime": {
     "end_time": "2025-07-26T11:30:31.815205Z",
     "start_time": "2025-07-26T11:30:31.813203Z"
    }
   },
   "cell_type": "code",
   "source": "partitioned_dataset_indices",
   "id": "207909a41dfd7a64",
   "outputs": [
    {
     "data": {
      "text/plain": [
       "defaultdict(list,\n",
       "            {0: [9, 0, 0],\n",
       "             1: [6, 5, 6],\n",
       "             2: [3, 8, 7, 8],\n",
       "             3: [7, 1],\n",
       "             4: [4, 2]})"
      ]
     },
     "execution_count": 8,
     "metadata": {},
     "output_type": "execute_result"
    }
   ],
   "execution_count": 8
  },
  {
   "metadata": {},
   "cell_type": "markdown",
   "source": "## Client App",
   "id": "c8a37a904e1c7a98"
  },
  {
   "metadata": {
    "ExecuteTime": {
     "end_time": "2025-07-26T11:30:41.733013Z",
     "start_time": "2025-07-26T11:30:41.313046Z"
    }
   },
   "cell_type": "code",
   "source": [
    "from Argos.Model import get_model\n",
    "from Argos.Client import Client\n",
    "from flwr.common import Context\n",
    "from Argos.settings import DEVICE\n",
    "from flwr.client import ClientApp\n",
    "\n",
    "\n",
    "def new_client(context : Context) -> Client:\n",
    "    \"\"\"Create a Flower client representing a single organization.\"\"\"\n",
    "\n",
    "    neural_network = get_model(\n",
    "        num_classes=number_of_classes\n",
    "    ).to(DEVICE)\n",
    "\n",
    "    partition_id = context.node_config[\"partition-id\"]\n",
    "    train_dataset , val_dataset ,test_dataset = get_dataset_for_client(\n",
    "        partition_id=partition_id,\n",
    "        full_dataset=dataset,\n",
    "        partitioned_dataset_indices=partitioned_dataset_indices,\n",
    "    )\n",
    "\n",
    "\n",
    "    return Client(\n",
    "        model=neural_network,\n",
    "        train_dataset=train_dataset,\n",
    "        eval_dataset=val_dataset,\n",
    "        learning_rate=CLIENT_LEARNING_RATE,\n",
    "        batch_size=CLIENT_BATCH_SIZE,\n",
    "    ).to_client()\n",
    "\n",
    "\n",
    "\n",
    "client = ClientApp(client_fn=new_client)"
   ],
   "id": "a5df96ab358c599b",
   "outputs": [],
   "execution_count": 9
  },
  {
   "metadata": {},
   "cell_type": "markdown",
   "source": "## Server App",
   "id": "b2eb47eba58be1e7"
  },
  {
   "metadata": {
    "ExecuteTime": {
     "end_time": "2025-07-26T11:31:09.259844Z",
     "start_time": "2025-07-26T11:31:09.256241Z"
    }
   },
   "cell_type": "code",
   "source": [
    "\n",
    "from flwr.server.strategy import FedAvg\n",
    "\n",
    "strategy = FedAvg(\n",
    "    fraction_fit=1.0,  # Sample 100% of available clients for training\n",
    "    fraction_evaluate=0.5,  # Sample 50% of available clients for evaluation\n",
    ")"
   ],
   "id": "9809e3ced8b51eec",
   "outputs": [],
   "execution_count": 11
  },
  {
   "metadata": {
    "ExecuteTime": {
     "end_time": "2025-07-26T11:33:46.132778Z",
     "start_time": "2025-07-26T11:33:46.128984Z"
    }
   },
   "cell_type": "code",
   "source": [
    "from flwr.common import Context\n",
    "from flwr.server import ServerAppComponents, ServerConfig, ServerApp\n",
    "\n",
    "\n",
    "def server_fn(context: Context) -> ServerAppComponents:\n",
    "    \"\"\"Construct components that set the ServerApp behaviour.\n",
    "\n",
    "    You can use the settings in `context.run_config` to parameterize the\n",
    "    construction of all elements (e.g the strategy or the number of rounds)\n",
    "    wrapped in the returned ServerAppComponents object.\n",
    "    \"\"\"\n",
    "\n",
    "    # Configure the server for 5 rounds of training\n",
    "    config = ServerConfig(num_rounds=5)\n",
    "\n",
    "    return ServerAppComponents(strategy=strategy, config=config)\n",
    "\n",
    "\n",
    "# Create the ServerApp\n",
    "server = ServerApp(server_fn=server_fn)"
   ],
   "id": "4719047ee6aad726",
   "outputs": [],
   "execution_count": 13
  },
  {
   "metadata": {
    "ExecuteTime": {
     "end_time": "2025-07-26T11:34:02.050538Z",
     "start_time": "2025-07-26T11:34:02.047876Z"
    }
   },
   "cell_type": "code",
   "source": [
    "# Specify the resources each of your clients need\n",
    "# By default, each client will be allocated 2x CPU and 0x GPUs\n",
    "\n",
    "backend_config = {\n",
    "    \"client_resources\": {\n",
    "        \"num_cpus\": 2, \"num_gpus\": 0.0\n",
    "    }\n",
    "}\n",
    "\n"
   ],
   "id": "2f9c54009c6f98de",
   "outputs": [],
   "execution_count": 15
  },
  {
   "metadata": {
    "ExecuteTime": {
     "end_time": "2025-07-26T10:40:22.686990Z",
     "start_time": "2025-07-26T10:40:22.685816Z"
    }
   },
   "cell_type": "code",
   "source": "",
   "id": "4cf866d3983de39e",
   "outputs": [],
   "execution_count": null
  },
  {
   "metadata": {
    "jupyter": {
     "is_executing": true
    },
    "ExecuteTime": {
     "start_time": "2025-07-26T10:40:22.690979Z"
    }
   },
   "cell_type": "code",
   "source": [
    "from flwr.simulation import run_simulation\n",
    "\n",
    "run_simulation(\n",
    "    server_app=server,\n",
    "    client_app=client,\n",
    "    num_supernodes=NUMBER_OF_CLIENTS,\n",
    "    backend_config=backend_config,\n",
    ")"
   ],
   "id": "354e83bed2521700",
   "outputs": [
    {
     "name": "stderr",
     "output_type": "stream",
     "text": [
      "DEBUG:flwr:Asyncio event loop already running.\n",
      "\u001B[92mINFO \u001B[0m:      Starting Flower ServerApp, config: num_rounds=5, no round_timeout\n",
      "\u001B[92mINFO \u001B[0m:      \n",
      "\u001B[92mINFO \u001B[0m:      [INIT]\n",
      "\u001B[92mINFO \u001B[0m:      Requesting initial parameters from one random client\n",
      "\u001B[92mINFO \u001B[0m:      Received initial parameters from one random client\n",
      "\u001B[92mINFO \u001B[0m:      Starting evaluation of initial global parameters\n",
      "\u001B[92mINFO \u001B[0m:      Evaluation returned no results (`None`)\n",
      "\u001B[92mINFO \u001B[0m:      \n",
      "\u001B[92mINFO \u001B[0m:      [ROUND 1]\n",
      "\u001B[92mINFO \u001B[0m:      configure_fit: strategy sampled 5 clients (out of 5)\n",
      "Training:   0%|          | 0/1 [00:00<?, ?it/s]\n"
     ]
    }
   ],
   "execution_count": null
  },
  {
   "metadata": {},
   "cell_type": "code",
   "outputs": [],
   "execution_count": null,
   "source": "",
   "id": "119f654d8efc7069"
  },
  {
   "metadata": {},
   "cell_type": "code",
   "outputs": [],
   "execution_count": null,
   "source": "",
   "id": "3c3848e167dd6b31"
  }
 ],
 "metadata": {
  "kernelspec": {
   "display_name": "Python 3",
   "language": "python",
   "name": "python3"
  },
  "language_info": {
   "codemirror_mode": {
    "name": "ipython",
    "version": 2
   },
   "file_extension": ".py",
   "mimetype": "text/x-python",
   "name": "python",
   "nbconvert_exporter": "python",
   "pygments_lexer": "ipython2",
   "version": "2.7.6"
  }
 },
 "nbformat": 4,
 "nbformat_minor": 5
}
