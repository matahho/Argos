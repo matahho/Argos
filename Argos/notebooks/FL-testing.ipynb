{
 "cells": [
  {
   "metadata": {},
   "cell_type": "markdown",
   "source": [
    "## NOTE : For running this notebook you should download the dataset from :\n",
    "###    https://www.kaggle.com/datasets/nomihsa965/traffic-signs-dataset-mapillary-and-dfg\n",
    "##    and then put it in the main directory (Argos/) by \"data\" naming"
   ],
   "id": "977513d9512cf33f"
  },
  {
   "cell_type": "code",
   "id": "initial_id",
   "metadata": {
    "collapsed": true,
    "ExecuteTime": {
     "end_time": "2025-07-26T10:22:46.238182Z",
     "start_time": "2025-07-26T10:22:45.151184Z"
    }
   },
   "source": [
    "import os\n",
    "import json\n",
    "import logging\n",
    "from PIL import Image\n",
    "import torch\n",
    "from torchvision import transforms\n",
    "\n",
    "import torch\n",
    "import matplotlib.pyplot as plt\n",
    "import matplotlib.patches as patches\n",
    "import torchvision.transforms.functional as F\n",
    "import random\n",
    "import numpy as np\n",
    "import json"
   ],
   "outputs": [],
   "execution_count": 1
  },
  {
   "metadata": {
    "ExecuteTime": {
     "end_time": "2025-07-26T10:22:47.061834Z",
     "start_time": "2025-07-26T10:22:46.241833Z"
    }
   },
   "cell_type": "code",
   "source": [
    "from Argos.Dataset_utils import *\n",
    "from Argos.Client import new_client"
   ],
   "id": "56a76bc5eb1e1f8a",
   "outputs": [],
   "execution_count": 2
  },
  {
   "metadata": {
    "ExecuteTime": {
     "end_time": "2025-07-26T10:22:47.119523Z",
     "start_time": "2025-07-26T10:22:47.118310Z"
    }
   },
   "cell_type": "code",
   "source": "",
   "id": "e766be852e90676b",
   "outputs": [],
   "execution_count": null
  },
  {
   "metadata": {
    "ExecuteTime": {
     "end_time": "2025-07-26T10:22:47.129496Z",
     "start_time": "2025-07-26T10:22:47.126525Z"
    }
   },
   "cell_type": "code",
   "source": "partitioned_dataset_indices",
   "id": "207909a41dfd7a64",
   "outputs": [
    {
     "data": {
      "text/plain": [
       "defaultdict(list,\n",
       "            {0: [7, 2, 8],\n",
       "             1: [6, 7, 0],\n",
       "             2: [0, 9, 5],\n",
       "             3: [3, 8, 4],\n",
       "             4: [1, 6]})"
      ]
     },
     "execution_count": 3,
     "metadata": {},
     "output_type": "execute_result"
    }
   ],
   "execution_count": 3
  },
  {
   "metadata": {},
   "cell_type": "markdown",
   "source": "## Client App",
   "id": "c8a37a904e1c7a98"
  },
  {
   "metadata": {
    "ExecuteTime": {
     "end_time": "2025-07-26T10:22:47.136460Z",
     "start_time": "2025-07-26T10:22:47.134934Z"
    }
   },
   "cell_type": "code",
   "source": [
    "from flwr.client import ClientApp\n",
    "\n",
    "client = ClientApp(client_fn=new_client)"
   ],
   "id": "a5df96ab358c599b",
   "outputs": [],
   "execution_count": 4
  },
  {
   "metadata": {},
   "cell_type": "markdown",
   "source": "## Server App",
   "id": "b2eb47eba58be1e7"
  },
  {
   "metadata": {
    "ExecuteTime": {
     "end_time": "2025-07-26T10:22:47.147710Z",
     "start_time": "2025-07-26T10:22:47.146171Z"
    }
   },
   "cell_type": "code",
   "source": [
    "\n",
    "from flwr.server.strategy import FedAvg\n",
    "\n",
    "strategy = FedAvg(\n",
    "    fraction_fit=1.0,  # Sample 100% of available clients for training\n",
    "    fraction_evaluate=0.5,  # Sample 50% of available clients for evaluation\n",
    ")"
   ],
   "id": "9809e3ced8b51eec",
   "outputs": [],
   "execution_count": 5
  },
  {
   "metadata": {
    "ExecuteTime": {
     "end_time": "2025-07-26T10:22:47.154074Z",
     "start_time": "2025-07-26T10:22:47.152387Z"
    }
   },
   "cell_type": "code",
   "source": [
    "from flwr.common import Context\n",
    "from flwr.server import ServerAppComponents, ServerConfig, ServerApp\n",
    "\n",
    "\n",
    "def server_fn(context: Context) -> ServerAppComponents:\n",
    "    \"\"\"Construct components that set the ServerApp behaviour.\n",
    "\n",
    "    You can use the settings in `context.run_config` to parameterize the\n",
    "    construction of all elements (e.g the strategy or the number of rounds)\n",
    "    wrapped in the returned ServerAppComponents object.\n",
    "    \"\"\"\n",
    "\n",
    "    # Configure the server for 5 rounds of training\n",
    "    config = ServerConfig(num_rounds=5)\n",
    "\n",
    "    return ServerAppComponents(strategy=strategy, config=config)\n",
    "\n",
    "\n",
    "# Create the ServerApp\n",
    "server = ServerApp(server_fn=server_fn)"
   ],
   "id": "4719047ee6aad726",
   "outputs": [],
   "execution_count": 6
  },
  {
   "metadata": {
    "ExecuteTime": {
     "end_time": "2025-07-26T10:22:47.159392Z",
     "start_time": "2025-07-26T10:22:47.158011Z"
    }
   },
   "cell_type": "code",
   "source": [
    "# Specify the resources each of your clients need\n",
    "# By default, each client will be allocated x CPU and 0x GPUs\n",
    "backend_config = {\"client_resources\": {\"num_cpus\": 2, \"num_gpus\": 0.0}}\n",
    "\n"
   ],
   "id": "2f9c54009c6f98de",
   "outputs": [],
   "execution_count": 7
  },
  {
   "metadata": {
    "ExecuteTime": {
     "end_time": "2025-07-26T10:22:47.164183Z",
     "start_time": "2025-07-26T10:22:47.163050Z"
    }
   },
   "cell_type": "code",
   "source": "",
   "id": "4cf866d3983de39e",
   "outputs": [],
   "execution_count": null
  },
  {
   "metadata": {
    "jupyter": {
     "is_executing": true
    },
    "ExecuteTime": {
     "start_time": "2025-07-26T10:22:47.168397Z"
    }
   },
   "cell_type": "code",
   "source": [
    "from flwr.simulation import run_simulation\n",
    "\n",
    "run_simulation(\n",
    "    server_app=server,\n",
    "    client_app=client,\n",
    "    num_supernodes=NUMBER_OF_CLIENTS,\n",
    "    backend_config=backend_config,\n",
    ")"
   ],
   "id": "354e83bed2521700",
   "outputs": [
    {
     "name": "stderr",
     "output_type": "stream",
     "text": [
      "DEBUG:flwr:Asyncio event loop already running.\n",
      "\u001B[92mINFO \u001B[0m:      Starting Flower ServerApp, config: num_rounds=5, no round_timeout\n",
      "\u001B[92mINFO \u001B[0m:      \n",
      "\u001B[92mINFO \u001B[0m:      [INIT]\n",
      "\u001B[92mINFO \u001B[0m:      Requesting initial parameters from one random client\n",
      "\u001B[92mINFO \u001B[0m:      Received initial parameters from one random client\n",
      "\u001B[92mINFO \u001B[0m:      Starting evaluation of initial global parameters\n",
      "\u001B[92mINFO \u001B[0m:      Evaluation returned no results (`None`)\n",
      "\u001B[92mINFO \u001B[0m:      \n",
      "\u001B[92mINFO \u001B[0m:      [ROUND 1]\n",
      "\u001B[92mINFO \u001B[0m:      configure_fit: strategy sampled 5 clients (out of 5)\n",
      "Training:   0%|          | 0/1 [00:00<?, ?it/s]\n",
      "Training:   0%|          | 0/1 [00:00<?, ?it/s]\u001B[32m [repeated 4x across cluster] (Ray deduplicates logs by default. Set RAY_DEDUP_LOGS=0 to disable log deduplication, or see https://docs.ray.io/en/master/ray-observability/user-guides/configure-logging.html#log-deduplication for more options.)\u001B[0m\n"
     ]
    }
   ],
   "execution_count": null
  },
  {
   "metadata": {},
   "cell_type": "code",
   "outputs": [],
   "execution_count": null,
   "source": "",
   "id": "119f654d8efc7069"
  },
  {
   "metadata": {},
   "cell_type": "code",
   "outputs": [],
   "execution_count": null,
   "source": "",
   "id": "3c3848e167dd6b31"
  }
 ],
 "metadata": {
  "kernelspec": {
   "display_name": "Python 3",
   "language": "python",
   "name": "python3"
  },
  "language_info": {
   "codemirror_mode": {
    "name": "ipython",
    "version": 2
   },
   "file_extension": ".py",
   "mimetype": "text/x-python",
   "name": "python",
   "nbconvert_exporter": "python",
   "pygments_lexer": "ipython2",
   "version": "2.7.6"
  }
 },
 "nbformat": 4,
 "nbformat_minor": 5
}
