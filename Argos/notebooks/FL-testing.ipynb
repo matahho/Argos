{
 "cells": [
  {
   "metadata": {},
   "cell_type": "markdown",
   "source": [
    "## NOTE : For running this notebook you should download the dataset from :\n",
    "###    https://www.kaggle.com/datasets/nomihsa965/traffic-signs-dataset-mapillary-and-dfg\n",
    "##    and then put it in the main directory (Argos/) by \"data\" naming"
   ],
   "id": "977513d9512cf33f"
  },
  {
   "cell_type": "code",
   "id": "initial_id",
   "metadata": {
    "collapsed": true,
    "ExecuteTime": {
     "end_time": "2025-07-26T13:46:25.870191Z",
     "start_time": "2025-07-26T13:46:23.865928Z"
    }
   },
   "source": "from Argos.settings import CLASSES_JSON_FILE , DATASET_PATH , NUMBER_OF_CLIENTS , CLIENT_BATCH_SIZE , CLIENT_LEARNING_RATE",
   "outputs": [],
   "execution_count": 1
  },
  {
   "metadata": {
    "ExecuteTime": {
     "end_time": "2025-07-26T13:46:26.739874Z",
     "start_time": "2025-07-26T13:46:25.875529Z"
    }
   },
   "cell_type": "code",
   "source": "from Argos.Dataset_utils import extract_label_mapping , MTSDDataset , partition_dataset, get_dataset_for_client",
   "id": "56a76bc5eb1e1f8a",
   "outputs": [],
   "execution_count": 2
  },
  {
   "metadata": {
    "ExecuteTime": {
     "end_time": "2025-07-26T13:46:27.467706Z",
     "start_time": "2025-07-26T13:46:26.808634Z"
    }
   },
   "cell_type": "code",
   "source": [
    "from torch.utils.data import Subset\n",
    "\n",
    "label_mapping = extract_label_mapping(CLASSES_JSON_FILE)\n",
    "number_of_classes = len(label_mapping)\n",
    "dataset = MTSDDataset(root_dir=DATASET_PATH)\n",
    "dataset = Subset(dataset, list(range(10)))\n",
    "partitioned_dataset_indices = partition_dataset(dataset=dataset, num_clients=NUMBER_OF_CLIENTS)\n"
   ],
   "id": "e766be852e90676b",
   "outputs": [],
   "execution_count": 3
  },
  {
   "metadata": {
    "ExecuteTime": {
     "end_time": "2025-07-26T13:46:27.476534Z",
     "start_time": "2025-07-26T13:46:27.473783Z"
    }
   },
   "cell_type": "code",
   "source": "partitioned_dataset_indices",
   "id": "207909a41dfd7a64",
   "outputs": [
    {
     "data": {
      "text/plain": [
       "defaultdict(list,\n",
       "            {0: [7, 7, 8],\n",
       "             1: [1, 4, 3, 8],\n",
       "             2: [6, 0, 6],\n",
       "             3: [2, 0],\n",
       "             4: [5, 9]})"
      ]
     },
     "execution_count": 4,
     "metadata": {},
     "output_type": "execute_result"
    }
   ],
   "execution_count": 4
  },
  {
   "metadata": {},
   "cell_type": "markdown",
   "source": "## Client App",
   "id": "c8a37a904e1c7a98"
  },
  {
   "metadata": {
    "ExecuteTime": {
     "end_time": "2025-07-26T13:46:27.941202Z",
     "start_time": "2025-07-26T13:46:27.487014Z"
    }
   },
   "cell_type": "code",
   "source": [
    "from Argos.Model import get_model\n",
    "from Argos.Client import Client\n",
    "from flwr.common import Context\n",
    "from Argos.settings import DEVICE\n",
    "from flwr.client import ClientApp\n",
    "\n",
    "\n",
    "def new_client(context : Context) -> Client:\n",
    "    \"\"\"Create a Flower client representing a single organization.\"\"\"\n",
    "\n",
    "    neural_network = get_model(\n",
    "        num_classes=number_of_classes\n",
    "    ).to(DEVICE)\n",
    "\n",
    "    partition_id = context.node_config[\"partition-id\"]\n",
    "    train_dataset , val_dataset ,test_dataset = get_dataset_for_client(\n",
    "        partition_id=partition_id,\n",
    "        full_dataset=dataset,\n",
    "        partitioned_dataset_indices=partitioned_dataset_indices,\n",
    "    )\n",
    "\n",
    "\n",
    "    return Client(\n",
    "        model=neural_network,\n",
    "        train_dataset=train_dataset,\n",
    "        eval_dataset=val_dataset,\n",
    "        learning_rate=CLIENT_LEARNING_RATE,\n",
    "        batch_size=CLIENT_BATCH_SIZE,\n",
    "    ).to_client()\n",
    "\n",
    "\n",
    "\n",
    "client = ClientApp(client_fn=new_client)"
   ],
   "id": "a5df96ab358c599b",
   "outputs": [],
   "execution_count": 5
  },
  {
   "metadata": {},
   "cell_type": "markdown",
   "source": "## Server App",
   "id": "b2eb47eba58be1e7"
  },
  {
   "metadata": {
    "ExecuteTime": {
     "end_time": "2025-07-26T13:46:27.947336Z",
     "start_time": "2025-07-26T13:46:27.945521Z"
    }
   },
   "cell_type": "code",
   "source": [
    "\n",
    "from flwr.server.strategy import FedAvg\n",
    "\n",
    "strategy = FedAvg(\n",
    "    fraction_fit=1.0,  # Sample 100% of available clients for training\n",
    "    fraction_evaluate=0.5,  # Sample 50% of available clients for evaluation\n",
    ")"
   ],
   "id": "9809e3ced8b51eec",
   "outputs": [],
   "execution_count": 6
  },
  {
   "metadata": {
    "ExecuteTime": {
     "end_time": "2025-07-26T13:46:27.955510Z",
     "start_time": "2025-07-26T13:46:27.953533Z"
    }
   },
   "cell_type": "code",
   "source": [
    "from flwr.common import Context\n",
    "from flwr.server import ServerAppComponents, ServerConfig, ServerApp\n",
    "\n",
    "\n",
    "def server_fn(context: Context) -> ServerAppComponents:\n",
    "    \"\"\"Construct components that set the ServerApp behaviour.\n",
    "\n",
    "    You can use the settings in `context.run_config` to parameterize the\n",
    "    construction of all elements (e.g the strategy or the number of rounds)\n",
    "    wrapped in the returned ServerAppComponents object.\n",
    "    \"\"\"\n",
    "\n",
    "    # Configure the server for 5 rounds of training\n",
    "    config = ServerConfig(num_rounds=5,round_timeout=30.0)\n",
    "\n",
    "    return ServerAppComponents(strategy=strategy, config=config)\n",
    "\n",
    "\n",
    "# Create the ServerApp\n",
    "server = ServerApp(server_fn=server_fn)"
   ],
   "id": "4719047ee6aad726",
   "outputs": [],
   "execution_count": 7
  },
  {
   "metadata": {
    "ExecuteTime": {
     "end_time": "2025-07-26T13:46:27.959498Z",
     "start_time": "2025-07-26T13:46:27.958006Z"
    }
   },
   "cell_type": "code",
   "source": [
    "# Specify the resources each of your clients need\n",
    "# By default, each client will be allocated 2x CPU and 0x GPUs\n",
    "\n",
    "backend_config = {\n",
    "    \"client_resources\": {\n",
    "        \"num_cpus\": 2, \"num_gpus\": 0.0\n",
    "    }\n",
    "}\n",
    "\n"
   ],
   "id": "2f9c54009c6f98de",
   "outputs": [],
   "execution_count": 8
  },
  {
   "metadata": {
    "ExecuteTime": {
     "end_time": "2025-07-26T13:46:27.964132Z",
     "start_time": "2025-07-26T13:46:27.963034Z"
    }
   },
   "cell_type": "code",
   "source": "",
   "id": "4cf866d3983de39e",
   "outputs": [],
   "execution_count": null
  },
  {
   "metadata": {
    "ExecuteTime": {
     "end_time": "2025-07-26T13:58:40.665613Z",
     "start_time": "2025-07-26T13:46:27.967737Z"
    }
   },
   "cell_type": "code",
   "source": [
    "from flwr.simulation import run_simulation\n",
    "\n",
    "run_simulation(\n",
    "    server_app=server,\n",
    "    client_app=client,\n",
    "    num_supernodes=NUMBER_OF_CLIENTS,\n",
    "    backend_config=backend_config,\n",
    ")"
   ],
   "id": "354e83bed2521700",
   "outputs": [
    {
     "name": "stderr",
     "output_type": "stream",
     "text": [
      "DEBUG:flwr:Asyncio event loop already running.\n",
      "\u001B[92mINFO \u001B[0m:      Starting Flower ServerApp, config: num_rounds=5, round_timeout=30.0s\n",
      "\u001B[92mINFO \u001B[0m:      \n",
      "\u001B[92mINFO \u001B[0m:      [INIT]\n",
      "\u001B[92mINFO \u001B[0m:      Requesting initial parameters from one random client\n",
      "\u001B[92mINFO \u001B[0m:      Received initial parameters from one random client\n",
      "\u001B[92mINFO \u001B[0m:      Starting evaluation of initial global parameters\n",
      "\u001B[92mINFO \u001B[0m:      Evaluation returned no results (`None`)\n",
      "\u001B[92mINFO \u001B[0m:      \n",
      "\u001B[92mINFO \u001B[0m:      [ROUND 1]\n",
      "\u001B[92mINFO \u001B[0m:      configure_fit: strategy sampled 5 clients (out of 5)\n",
      "Training:   0%|          | 0/1 [00:00<?, ?it/s]\n",
      "\u001B[92mINFO \u001B[0m:      aggregate_fit: received 0 results and 5 failures\n",
      "\u001B[92mINFO \u001B[0m:      configure_evaluate: strategy sampled 2 clients (out of 5)\n",
      "\u001B[91mERROR \u001B[0m:     An exception was raised when processing a message by RayBackend\n",
      "\u001B[91mERROR \u001B[0m:     \u001B[36mray::ClientAppActor.run()\u001B[39m (pid=1634, ip=127.0.0.1, actor_id=de87f141da9b3b9cb95d47ec01000000, repr=<flwr.simulation.ray_transport.ray_actor.ClientAppActor object at 0x106725690>)\n",
      "                  ^^^^^^^^^^^^^^^^^^^^^^^^^^^^^^^^^^^^^\n",
      "  File \"/Users/mahdi/Desktop/CPS/CAVs-FL/Argos/.venv/lib/python3.11/site-packages/flwr/client/client_app.py\", line 144, in __call__\n",
      "    return self._call(message, context)\n",
      "           ^^^^^^^^^^^^^^^^^^^^^^^^^^^^\n",
      "  File \"/Users/mahdi/Desktop/CPS/CAVs-FL/Argos/.venv/lib/python3.11/site-packages/flwr/client/client_app.py\", line 128, in ffn\n",
      "    out_message = handle_legacy_message_from_msgtype(\n",
      "                  ^^^^^^^^^^^^^^^^^^^^^^^^^^^^^^^^^^^\n",
      "  File \"/Users/mahdi/Desktop/CPS/CAVs-FL/Argos/.venv/lib/python3.11/site-packages/flwr/client/message_handler/message_handler.py\", line 135, in handle_legacy_message_from_msgtype\n",
      "    evaluate_res = maybe_call_evaluate(\n",
      "                   ^^^^^^^^^^^^^^^^^^^^\n",
      "  File \"/Users/mahdi/Desktop/CPS/CAVs-FL/Argos/.venv/lib/python3.11/site-packages/flwr/client/client.py\", line 244, in maybe_call_evaluate\n",
      "    return client.evaluate(evaluate_ins)\n",
      "           ^^^^^^^^^^^^^^^^^^^^^^^^^^^^^\n",
      "  File \"/Users/mahdi/Desktop/CPS/CAVs-FL/Argos/.venv/lib/python3.11/site-packages/flwr/client/numpy_client.py\", line 251, in _evaluate\n",
      "    results = self.numpy_client.evaluate(parameters, ins.config)  # type: ignore\n",
      "              ^^^^^^^^^^^^^^^^^^^^^^^^^^^^^^^^^^^^^^^^^^^^^^^^^^\n",
      "  File \"/Users/mahdi/Desktop/CPS/CAVs-FL/Argos/Client.py\", line 66, in evaluate\n",
      "    avg_loss , accuracy = evaluate(\n",
      "                          ^^^^^^^^^\n",
      "  File \"/Users/mahdi/Desktop/CPS/CAVs-FL/Argos/Model.py\", line 131, in evaluate\n",
      "    avg_loss = total_loss / num_batches\n",
      "               ~~~~~~~~~~~^~~~~~~~~~~~~\n",
      "ZeroDivisionError: float division by zero\n",
      "\n",
      "The above exception was the direct cause of the following exception:\n",
      "\n",
      "\u001B[36mray::ClientAppActor.run()\u001B[39m (pid=1634, ip=127.0.0.1, actor_id=de87f141da9b3b9cb95d47ec01000000, repr=<flwr.simulation.ray_transport.ray_actor.ClientAppActor object at 0x106725690>)\n",
      "           ^^^^^^^^^^^^^^^^^^^^^^^^^^^^^^^^^^^^\n",
      "           ^^^^^^^^^^^^^^^^^^^^^^^^^^^^^^^\n",
      "  File \"/Users/mahdi/Desktop/CPS/CAVs-FL/Argos/.venv/lib/python3.11/site-packages/flwr/simulation/ray_transport/ray_actor.py\", line 64, in run\n",
      "    raise ClientAppException(str(ex)) from ex\n",
      "flwr.client.client_app.ClientAppException: \n",
      "Exception ClientAppException occurred. Message: float division by zero\n",
      "\u001B[91mERROR \u001B[0m:     Traceback (most recent call last):\n",
      "  File \"/Users/mahdi/Desktop/CPS/CAVs-FL/Argos/.venv/lib/python3.11/site-packages/flwr/server/superlink/fleet/vce/vce_api.py\", line 112, in worker\n",
      "    out_mssg, updated_context = backend.process_message(message, context)\n",
      "                                ^^^^^^^^^^^^^^^^^^^^^^^^^^^^^^^^^^^^^^^^^\n",
      "  File \"/Users/mahdi/Desktop/CPS/CAVs-FL/Argos/.venv/lib/python3.11/site-packages/flwr/server/superlink/fleet/vce/backend/raybackend.py\", line 187, in process_message\n",
      "    raise ex\n",
      "  File \"/Users/mahdi/Desktop/CPS/CAVs-FL/Argos/.venv/lib/python3.11/site-packages/flwr/server/superlink/fleet/vce/backend/raybackend.py\", line 175, in process_message\n",
      "    ) = self.pool.fetch_result_and_return_actor_to_pool(future)\n",
      "        ^^^^^^^^^^^^^^^^^^^^^^^^^^^^^^^^^^^^^^^^^^^^^^^^^^^^^^^\n",
      "  File \"/Users/mahdi/Desktop/CPS/CAVs-FL/Argos/.venv/lib/python3.11/site-packages/flwr/simulation/ray_transport/ray_actor.py\", line 480, in fetch_result_and_return_actor_to_pool\n",
      "    _, out_mssg, updated_context = ray.get(future)\n",
      "                                   ^^^^^^^^^^^^^^^\n",
      "  File \"/Users/mahdi/Desktop/CPS/CAVs-FL/Argos/.venv/lib/python3.11/site-packages/ray/_private/auto_init_hook.py\", line 21, in auto_init_wrapper\n",
      "    return fn(*args, **kwargs)\n",
      "           ^^^^^^^^^^^^^^^^^^^\n",
      "  File \"/Users/mahdi/Desktop/CPS/CAVs-FL/Argos/.venv/lib/python3.11/site-packages/ray/_private/client_mode_hook.py\", line 103, in wrapper\n",
      "    return func(*args, **kwargs)\n",
      "           ^^^^^^^^^^^^^^^^^^^^^\n",
      "  File \"/Users/mahdi/Desktop/CPS/CAVs-FL/Argos/.venv/lib/python3.11/site-packages/ray/_private/worker.py\", line 2639, in get\n",
      "    values, debugger_breakpoint = worker.get_objects(object_refs, timeout=timeout)\n",
      "                                  ^^^^^^^^^^^^^^^^^^^^^^^^^^^^^^^^^^^^^^^^^^^^^^^^\n",
      "  File \"/Users/mahdi/Desktop/CPS/CAVs-FL/Argos/.venv/lib/python3.11/site-packages/ray/_private/worker.py\", line 864, in get_objects\n",
      "    raise value.as_instanceof_cause()\n",
      "ray.exceptions.RayTaskError(ClientAppException): \u001B[36mray::ClientAppActor.run()\u001B[39m (pid=1634, ip=127.0.0.1, actor_id=de87f141da9b3b9cb95d47ec01000000, repr=<flwr.simulation.ray_transport.ray_actor.ClientAppActor object at 0x106725690>)\n",
      "                  ^^^^^^^^^^^^^^^^^^^^^^^^^^^^^^^^^^^^^\n",
      "  File \"/Users/mahdi/Desktop/CPS/CAVs-FL/Argos/.venv/lib/python3.11/site-packages/flwr/client/client_app.py\", line 144, in __call__\n",
      "    return self._call(message, context)\n",
      "           ^^^^^^^^^^^^^^^^^^^^^^^^^^^^\n",
      "  File \"/Users/mahdi/Desktop/CPS/CAVs-FL/Argos/.venv/lib/python3.11/site-packages/flwr/client/client_app.py\", line 128, in ffn\n",
      "    out_message = handle_legacy_message_from_msgtype(\n",
      "                  ^^^^^^^^^^^^^^^^^^^^^^^^^^^^^^^^^^^\n",
      "  File \"/Users/mahdi/Desktop/CPS/CAVs-FL/Argos/.venv/lib/python3.11/site-packages/flwr/client/message_handler/message_handler.py\", line 135, in handle_legacy_message_from_msgtype\n",
      "    evaluate_res = maybe_call_evaluate(\n",
      "                   ^^^^^^^^^^^^^^^^^^^^\n",
      "  File \"/Users/mahdi/Desktop/CPS/CAVs-FL/Argos/.venv/lib/python3.11/site-packages/flwr/client/client.py\", line 244, in maybe_call_evaluate\n",
      "    return client.evaluate(evaluate_ins)\n",
      "           ^^^^^^^^^^^^^^^^^^^^^^^^^^^^^\n",
      "  File \"/Users/mahdi/Desktop/CPS/CAVs-FL/Argos/.venv/lib/python3.11/site-packages/flwr/client/numpy_client.py\", line 251, in _evaluate\n",
      "    results = self.numpy_client.evaluate(parameters, ins.config)  # type: ignore\n",
      "              ^^^^^^^^^^^^^^^^^^^^^^^^^^^^^^^^^^^^^^^^^^^^^^^^^^\n",
      "  File \"/Users/mahdi/Desktop/CPS/CAVs-FL/Argos/Client.py\", line 66, in evaluate\n",
      "    avg_loss , accuracy = evaluate(\n",
      "                          ^^^^^^^^^\n",
      "  File \"/Users/mahdi/Desktop/CPS/CAVs-FL/Argos/Model.py\", line 131, in evaluate\n",
      "    avg_loss = total_loss / num_batches\n",
      "               ~~~~~~~~~~~^~~~~~~~~~~~~\n",
      "ZeroDivisionError: float division by zero\n",
      "\n",
      "The above exception was the direct cause of the following exception:\n",
      "\n",
      "\u001B[36mray::ClientAppActor.run()\u001B[39m (pid=1634, ip=127.0.0.1, actor_id=de87f141da9b3b9cb95d47ec01000000, repr=<flwr.simulation.ray_transport.ray_actor.ClientAppActor object at 0x106725690>)\n",
      "           ^^^^^^^^^^^^^^^^^^^^^^^^^^^^^^^^^^^^\n",
      "           ^^^^^^^^^^^^^^^^^^^^^^^^^^^^^^^\n",
      "  File \"/Users/mahdi/Desktop/CPS/CAVs-FL/Argos/.venv/lib/python3.11/site-packages/flwr/simulation/ray_transport/ray_actor.py\", line 64, in run\n",
      "    raise ClientAppException(str(ex)) from ex\n",
      "flwr.client.client_app.ClientAppException: \n",
      "Exception ClientAppException occurred. Message: float division by zero\n",
      "\n",
      "                              \u001B[0m \n",
      "Training:   0%|          | 0/1 [00:00<?, ?it/s]\u001B[32m [repeated 4x across cluster] (Ray deduplicates logs by default. Set RAY_DEDUP_LOGS=0 to disable log deduplication, or see https://docs.ray.io/en/master/ray-observability/user-guides/configure-logging.html#log-deduplication for more options.)\u001B[0m\n",
      "\u001B[91mERROR \u001B[0m:     An exception was raised when processing a message by RayBackend\n",
      "\u001B[91mERROR \u001B[0m:     \u001B[36mray::ClientAppActor.run()\u001B[39m (pid=1634, ip=127.0.0.1, actor_id=de87f141da9b3b9cb95d47ec01000000, repr=<flwr.simulation.ray_transport.ray_actor.ClientAppActor object at 0x106725690>)\n",
      "                  ^^^^^^^^^^^^^^^^^^^^^^^^^^^^^^^^^^^^^\n",
      "  File \"/Users/mahdi/Desktop/CPS/CAVs-FL/Argos/.venv/lib/python3.11/site-packages/flwr/client/client_app.py\", line 144, in __call__\n",
      "    return self._call(message, context)\n",
      "           ^^^^^^^^^^^^^^^^^^^^^^^^^^^^\n",
      "  File \"/Users/mahdi/Desktop/CPS/CAVs-FL/Argos/.venv/lib/python3.11/site-packages/flwr/client/client_app.py\", line 128, in ffn\n",
      "    out_message = handle_legacy_message_from_msgtype(\n",
      "                  ^^^^^^^^^^^^^^^^^^^^^^^^^^^^^^^^^^^\n",
      "  File \"/Users/mahdi/Desktop/CPS/CAVs-FL/Argos/.venv/lib/python3.11/site-packages/flwr/client/message_handler/message_handler.py\", line 135, in handle_legacy_message_from_msgtype\n",
      "    evaluate_res = maybe_call_evaluate(\n",
      "                   ^^^^^^^^^^^^^^^^^^^^\n",
      "  File \"/Users/mahdi/Desktop/CPS/CAVs-FL/Argos/.venv/lib/python3.11/site-packages/flwr/client/client.py\", line 244, in maybe_call_evaluate\n",
      "    return client.evaluate(evaluate_ins)\n",
      "           ^^^^^^^^^^^^^^^^^^^^^^^^^^^^^\n",
      "  File \"/Users/mahdi/Desktop/CPS/CAVs-FL/Argos/.venv/lib/python3.11/site-packages/flwr/client/numpy_client.py\", line 251, in _evaluate\n",
      "    results = self.numpy_client.evaluate(parameters, ins.config)  # type: ignore\n",
      "              ^^^^^^^^^^^^^^^^^^^^^^^^^^^^^^^^^^^^^^^^^^^^^^^^^^\n",
      "  File \"/Users/mahdi/Desktop/CPS/CAVs-FL/Argos/Client.py\", line 66, in evaluate\n",
      "    avg_loss , accuracy = evaluate(\n",
      "                          ^^^^^^^^^\n",
      "  File \"/Users/mahdi/Desktop/CPS/CAVs-FL/Argos/Model.py\", line 131, in evaluate\n",
      "    avg_loss = total_loss / num_batches\n",
      "               ~~~~~~~~~~~^~~~~~~~~~~~~\n",
      "ZeroDivisionError: float division by zero\n",
      "\n",
      "The above exception was the direct cause of the following exception:\n",
      "\n",
      "\u001B[36mray::ClientAppActor.run()\u001B[39m (pid=1634, ip=127.0.0.1, actor_id=de87f141da9b3b9cb95d47ec01000000, repr=<flwr.simulation.ray_transport.ray_actor.ClientAppActor object at 0x106725690>)\n",
      "           ^^^^^^^^^^^^^^^^^^^^^^^^^^^^^^^^^^^^\n",
      "           ^^^^^^^^^^^^^^^^^^^^^^^^^^^^^^^\n",
      "  File \"/Users/mahdi/Desktop/CPS/CAVs-FL/Argos/.venv/lib/python3.11/site-packages/flwr/simulation/ray_transport/ray_actor.py\", line 64, in run\n",
      "    raise ClientAppException(str(ex)) from ex\n",
      "flwr.client.client_app.ClientAppException: \n",
      "Exception ClientAppException occurred. Message: float division by zero\n",
      "\u001B[91mERROR \u001B[0m:     Traceback (most recent call last):\n",
      "  File \"/Users/mahdi/Desktop/CPS/CAVs-FL/Argos/.venv/lib/python3.11/site-packages/flwr/server/superlink/fleet/vce/vce_api.py\", line 112, in worker\n",
      "    out_mssg, updated_context = backend.process_message(message, context)\n",
      "                                ^^^^^^^^^^^^^^^^^^^^^^^^^^^^^^^^^^^^^^^^^\n",
      "  File \"/Users/mahdi/Desktop/CPS/CAVs-FL/Argos/.venv/lib/python3.11/site-packages/flwr/server/superlink/fleet/vce/backend/raybackend.py\", line 187, in process_message\n",
      "    raise ex\n",
      "  File \"/Users/mahdi/Desktop/CPS/CAVs-FL/Argos/.venv/lib/python3.11/site-packages/flwr/server/superlink/fleet/vce/backend/raybackend.py\", line 175, in process_message\n",
      "    ) = self.pool.fetch_result_and_return_actor_to_pool(future)\n",
      "        ^^^^^^^^^^^^^^^^^^^^^^^^^^^^^^^^^^^^^^^^^^^^^^^^^^^^^^^\n",
      "  File \"/Users/mahdi/Desktop/CPS/CAVs-FL/Argos/.venv/lib/python3.11/site-packages/flwr/simulation/ray_transport/ray_actor.py\", line 480, in fetch_result_and_return_actor_to_pool\n",
      "    _, out_mssg, updated_context = ray.get(future)\n",
      "                                   ^^^^^^^^^^^^^^^\n",
      "  File \"/Users/mahdi/Desktop/CPS/CAVs-FL/Argos/.venv/lib/python3.11/site-packages/ray/_private/auto_init_hook.py\", line 21, in auto_init_wrapper\n",
      "    return fn(*args, **kwargs)\n",
      "           ^^^^^^^^^^^^^^^^^^^\n",
      "  File \"/Users/mahdi/Desktop/CPS/CAVs-FL/Argos/.venv/lib/python3.11/site-packages/ray/_private/client_mode_hook.py\", line 103, in wrapper\n",
      "    return func(*args, **kwargs)\n",
      "           ^^^^^^^^^^^^^^^^^^^^^\n",
      "  File \"/Users/mahdi/Desktop/CPS/CAVs-FL/Argos/.venv/lib/python3.11/site-packages/ray/_private/worker.py\", line 2639, in get\n",
      "    values, debugger_breakpoint = worker.get_objects(object_refs, timeout=timeout)\n",
      "                                  ^^^^^^^^^^^^^^^^^^^^^^^^^^^^^^^^^^^^^^^^^^^^^^^^\n",
      "  File \"/Users/mahdi/Desktop/CPS/CAVs-FL/Argos/.venv/lib/python3.11/site-packages/ray/_private/worker.py\", line 864, in get_objects\n",
      "    raise value.as_instanceof_cause()\n",
      "ray.exceptions.RayTaskError(ClientAppException): \u001B[36mray::ClientAppActor.run()\u001B[39m (pid=1634, ip=127.0.0.1, actor_id=de87f141da9b3b9cb95d47ec01000000, repr=<flwr.simulation.ray_transport.ray_actor.ClientAppActor object at 0x106725690>)\n",
      "                  ^^^^^^^^^^^^^^^^^^^^^^^^^^^^^^^^^^^^^\n",
      "  File \"/Users/mahdi/Desktop/CPS/CAVs-FL/Argos/.venv/lib/python3.11/site-packages/flwr/client/client_app.py\", line 144, in __call__\n",
      "    return self._call(message, context)\n",
      "           ^^^^^^^^^^^^^^^^^^^^^^^^^^^^\n",
      "  File \"/Users/mahdi/Desktop/CPS/CAVs-FL/Argos/.venv/lib/python3.11/site-packages/flwr/client/client_app.py\", line 128, in ffn\n",
      "    out_message = handle_legacy_message_from_msgtype(\n",
      "                  ^^^^^^^^^^^^^^^^^^^^^^^^^^^^^^^^^^^\n",
      "  File \"/Users/mahdi/Desktop/CPS/CAVs-FL/Argos/.venv/lib/python3.11/site-packages/flwr/client/message_handler/message_handler.py\", line 135, in handle_legacy_message_from_msgtype\n",
      "    evaluate_res = maybe_call_evaluate(\n",
      "                   ^^^^^^^^^^^^^^^^^^^^\n",
      "  File \"/Users/mahdi/Desktop/CPS/CAVs-FL/Argos/.venv/lib/python3.11/site-packages/flwr/client/client.py\", line 244, in maybe_call_evaluate\n",
      "    return client.evaluate(evaluate_ins)\n",
      "           ^^^^^^^^^^^^^^^^^^^^^^^^^^^^^\n",
      "  File \"/Users/mahdi/Desktop/CPS/CAVs-FL/Argos/.venv/lib/python3.11/site-packages/flwr/client/numpy_client.py\", line 251, in _evaluate\n",
      "    results = self.numpy_client.evaluate(parameters, ins.config)  # type: ignore\n",
      "              ^^^^^^^^^^^^^^^^^^^^^^^^^^^^^^^^^^^^^^^^^^^^^^^^^^\n",
      "  File \"/Users/mahdi/Desktop/CPS/CAVs-FL/Argos/Client.py\", line 66, in evaluate\n",
      "    avg_loss , accuracy = evaluate(\n",
      "                          ^^^^^^^^^\n",
      "  File \"/Users/mahdi/Desktop/CPS/CAVs-FL/Argos/Model.py\", line 131, in evaluate\n",
      "    avg_loss = total_loss / num_batches\n",
      "               ~~~~~~~~~~~^~~~~~~~~~~~~\n",
      "ZeroDivisionError: float division by zero\n",
      "\n",
      "The above exception was the direct cause of the following exception:\n",
      "\n",
      "\u001B[36mray::ClientAppActor.run()\u001B[39m (pid=1634, ip=127.0.0.1, actor_id=de87f141da9b3b9cb95d47ec01000000, repr=<flwr.simulation.ray_transport.ray_actor.ClientAppActor object at 0x106725690>)\n",
      "           ^^^^^^^^^^^^^^^^^^^^^^^^^^^^^^^^^^^^\n",
      "           ^^^^^^^^^^^^^^^^^^^^^^^^^^^^^^^\n",
      "  File \"/Users/mahdi/Desktop/CPS/CAVs-FL/Argos/.venv/lib/python3.11/site-packages/flwr/simulation/ray_transport/ray_actor.py\", line 64, in run\n",
      "    raise ClientAppException(str(ex)) from ex\n",
      "flwr.client.client_app.ClientAppException: \n",
      "Exception ClientAppException occurred. Message: float division by zero\n",
      "\n",
      "\u001B[92mINFO \u001B[0m:      aggregate_evaluate: received 0 results and 2 failures\n",
      "\u001B[92mINFO \u001B[0m:      \n",
      "\u001B[92mINFO \u001B[0m:      [ROUND 2]\n",
      "\u001B[92mINFO \u001B[0m:      configure_fit: strategy sampled 5 clients (out of 5)\n",
      "                              \u001B[0m \n",
      "\u001B[92mINFO \u001B[0m:      aggregate_fit: received 0 results and 5 failures\n",
      "\u001B[92mINFO \u001B[0m:      configure_evaluate: strategy sampled 2 clients (out of 5)\n",
      "\u001B[92mINFO \u001B[0m:      aggregate_evaluate: received 0 results and 2 failures\n",
      "\u001B[92mINFO \u001B[0m:      \n",
      "\u001B[92mINFO \u001B[0m:      [ROUND 3]\n",
      "\u001B[92mINFO \u001B[0m:      configure_fit: strategy sampled 5 clients (out of 5)\n",
      "\u001B[92mINFO \u001B[0m:      aggregate_fit: received 0 results and 5 failures\n",
      "\u001B[92mINFO \u001B[0m:      configure_evaluate: strategy sampled 2 clients (out of 5)\n",
      "\u001B[92mINFO \u001B[0m:      aggregate_evaluate: received 0 results and 2 failures\n",
      "\u001B[92mINFO \u001B[0m:      \n",
      "\u001B[92mINFO \u001B[0m:      [ROUND 4]\n",
      "\u001B[92mINFO \u001B[0m:      configure_fit: strategy sampled 5 clients (out of 5)\n",
      "\u001B[92mINFO \u001B[0m:      aggregate_fit: received 0 results and 5 failures\n",
      "\u001B[92mINFO \u001B[0m:      configure_evaluate: strategy sampled 2 clients (out of 5)\n",
      "\u001B[92mINFO \u001B[0m:      aggregate_evaluate: received 0 results and 2 failures\n",
      "\u001B[92mINFO \u001B[0m:      \n",
      "\u001B[92mINFO \u001B[0m:      [ROUND 5]\n",
      "\u001B[92mINFO \u001B[0m:      configure_fit: strategy sampled 5 clients (out of 5)\n",
      "\u001B[92mINFO \u001B[0m:      aggregate_fit: received 0 results and 5 failures\n",
      "\u001B[92mINFO \u001B[0m:      configure_evaluate: strategy sampled 2 clients (out of 5)\n",
      "\u001B[92mINFO \u001B[0m:      aggregate_evaluate: received 0 results and 2 failures\n",
      "\u001B[92mINFO \u001B[0m:      \n",
      "\u001B[92mINFO \u001B[0m:      [SUMMARY]\n",
      "\u001B[92mINFO \u001B[0m:      Run finished 5 round(s) in 277.29s\n",
      "\u001B[92mINFO \u001B[0m:      \n",
      "                                                                  \n",
      "Training:   0%|          | 0/1 [00:00<?, ?it/s]\n",
      "                                                                   \n",
      "                                                                   \n",
      "                                                                   \n",
      "                                                                   \n",
      "                                                                  \n"
     ]
    }
   ],
   "execution_count": 9
  },
  {
   "metadata": {
    "ExecuteTime": {
     "end_time": "2025-07-26T13:58:40.735619Z",
     "start_time": "2025-07-26T13:58:40.734126Z"
    }
   },
   "cell_type": "code",
   "source": "",
   "id": "119f654d8efc7069",
   "outputs": [],
   "execution_count": null
  },
  {
   "metadata": {
    "ExecuteTime": {
     "end_time": "2025-07-26T13:58:40.792034Z",
     "start_time": "2025-07-26T13:58:40.790481Z"
    }
   },
   "cell_type": "code",
   "source": "",
   "id": "3c3848e167dd6b31",
   "outputs": [],
   "execution_count": null
  }
 ],
 "metadata": {
  "kernelspec": {
   "display_name": "Python 3",
   "language": "python",
   "name": "python3"
  },
  "language_info": {
   "codemirror_mode": {
    "name": "ipython",
    "version": 2
   },
   "file_extension": ".py",
   "mimetype": "text/x-python",
   "name": "python",
   "nbconvert_exporter": "python",
   "pygments_lexer": "ipython2",
   "version": "2.7.6"
  }
 },
 "nbformat": 4,
 "nbformat_minor": 5
}
